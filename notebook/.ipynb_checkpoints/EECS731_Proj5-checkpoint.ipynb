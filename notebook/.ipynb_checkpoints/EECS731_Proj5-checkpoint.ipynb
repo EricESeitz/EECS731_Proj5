{
 "cells": [
  {
   "cell_type": "code",
   "execution_count": 1,
   "metadata": {},
   "outputs": [],
   "source": [
    "import numpy as np\n",
    "import pandas as pd\n",
    "#test\n",
    "pd.options.mode.chained_assignment = None  # default='warn'"
   ]
  },
  {
   "cell_type": "code",
   "execution_count": 2,
   "metadata": {},
   "outputs": [
    {
     "data": {
      "text/html": [
       "<div>\n",
       "<style scoped>\n",
       "    .dataframe tbody tr th:only-of-type {\n",
       "        vertical-align: middle;\n",
       "    }\n",
       "\n",
       "    .dataframe tbody tr th {\n",
       "        vertical-align: top;\n",
       "    }\n",
       "\n",
       "    .dataframe thead th {\n",
       "        text-align: right;\n",
       "    }\n",
       "</style>\n",
       "<table border=\"1\" class=\"dataframe\">\n",
       "  <thead>\n",
       "    <tr style=\"text-align: right;\">\n",
       "      <th></th>\n",
       "      <th>Product_Code</th>\n",
       "      <th>Warehouse</th>\n",
       "      <th>Product_Category</th>\n",
       "      <th>Date</th>\n",
       "      <th>Order_Demand</th>\n",
       "    </tr>\n",
       "  </thead>\n",
       "  <tbody>\n",
       "    <tr>\n",
       "      <th>0</th>\n",
       "      <td>Product_0993</td>\n",
       "      <td>Whse_J</td>\n",
       "      <td>Category_028</td>\n",
       "      <td>2012/7/27</td>\n",
       "      <td>100</td>\n",
       "    </tr>\n",
       "    <tr>\n",
       "      <th>1</th>\n",
       "      <td>Product_0979</td>\n",
       "      <td>Whse_J</td>\n",
       "      <td>Category_028</td>\n",
       "      <td>2012/1/19</td>\n",
       "      <td>500</td>\n",
       "    </tr>\n",
       "    <tr>\n",
       "      <th>2</th>\n",
       "      <td>Product_0979</td>\n",
       "      <td>Whse_J</td>\n",
       "      <td>Category_028</td>\n",
       "      <td>2012/2/3</td>\n",
       "      <td>500</td>\n",
       "    </tr>\n",
       "    <tr>\n",
       "      <th>3</th>\n",
       "      <td>Product_0979</td>\n",
       "      <td>Whse_J</td>\n",
       "      <td>Category_028</td>\n",
       "      <td>2012/2/9</td>\n",
       "      <td>500</td>\n",
       "    </tr>\n",
       "    <tr>\n",
       "      <th>4</th>\n",
       "      <td>Product_0979</td>\n",
       "      <td>Whse_J</td>\n",
       "      <td>Category_028</td>\n",
       "      <td>2012/3/2</td>\n",
       "      <td>500</td>\n",
       "    </tr>\n",
       "    <tr>\n",
       "      <th>...</th>\n",
       "      <td>...</td>\n",
       "      <td>...</td>\n",
       "      <td>...</td>\n",
       "      <td>...</td>\n",
       "      <td>...</td>\n",
       "    </tr>\n",
       "    <tr>\n",
       "      <th>1048570</th>\n",
       "      <td>Product_1791</td>\n",
       "      <td>Whse_J</td>\n",
       "      <td>Category_006</td>\n",
       "      <td>2016/4/27</td>\n",
       "      <td>1000</td>\n",
       "    </tr>\n",
       "    <tr>\n",
       "      <th>1048571</th>\n",
       "      <td>Product_1974</td>\n",
       "      <td>Whse_J</td>\n",
       "      <td>Category_006</td>\n",
       "      <td>2016/4/27</td>\n",
       "      <td>1</td>\n",
       "    </tr>\n",
       "    <tr>\n",
       "      <th>1048572</th>\n",
       "      <td>Product_1787</td>\n",
       "      <td>Whse_J</td>\n",
       "      <td>Category_006</td>\n",
       "      <td>2016/4/28</td>\n",
       "      <td>2500</td>\n",
       "    </tr>\n",
       "    <tr>\n",
       "      <th>1048573</th>\n",
       "      <td>Product_0901</td>\n",
       "      <td>Whse_J</td>\n",
       "      <td>Category_023</td>\n",
       "      <td>2016/10/7</td>\n",
       "      <td>50</td>\n",
       "    </tr>\n",
       "    <tr>\n",
       "      <th>1048574</th>\n",
       "      <td>Product_0704</td>\n",
       "      <td>Whse_J</td>\n",
       "      <td>Category_001</td>\n",
       "      <td>2016/6/27</td>\n",
       "      <td>4</td>\n",
       "    </tr>\n",
       "  </tbody>\n",
       "</table>\n",
       "<p>1048575 rows × 5 columns</p>\n",
       "</div>"
      ],
      "text/plain": [
       "         Product_Code Warehouse Product_Category       Date Order_Demand\n",
       "0        Product_0993    Whse_J     Category_028  2012/7/27         100 \n",
       "1        Product_0979    Whse_J     Category_028  2012/1/19         500 \n",
       "2        Product_0979    Whse_J     Category_028   2012/2/3         500 \n",
       "3        Product_0979    Whse_J     Category_028   2012/2/9         500 \n",
       "4        Product_0979    Whse_J     Category_028   2012/3/2         500 \n",
       "...               ...       ...              ...        ...          ...\n",
       "1048570  Product_1791    Whse_J     Category_006  2016/4/27        1000 \n",
       "1048571  Product_1974    Whse_J     Category_006  2016/4/27           1 \n",
       "1048572  Product_1787    Whse_J     Category_006  2016/4/28        2500 \n",
       "1048573  Product_0901    Whse_J     Category_023  2016/10/7          50 \n",
       "1048574  Product_0704    Whse_J     Category_001  2016/6/27           4 \n",
       "\n",
       "[1048575 rows x 5 columns]"
      ]
     },
     "execution_count": 2,
     "metadata": {},
     "output_type": "execute_result"
    }
   ],
   "source": [
    "allData = pd.read_csv(r\"C:\\Users\\Eric\\Documents\\EECS 731\\Proj5\\data\\Historical Product Demand.csv\")\n",
    "allData"
   ]
  },
  {
   "cell_type": "code",
   "execution_count": 3,
   "metadata": {},
   "outputs": [
    {
     "data": {
      "text/plain": [
       "Product_1359    16936\n",
       "Product_1295    10575\n",
       "Product_1378     9770\n",
       "Product_0620     9428\n",
       "Product_1286     8888\n",
       "                ...  \n",
       "Product_1912        2\n",
       "Product_2099        1\n",
       "Product_0853        1\n",
       "Product_0465        1\n",
       "Product_1703        1\n",
       "Name: Product_Code, Length: 2160, dtype: int64"
      ]
     },
     "execution_count": 3,
     "metadata": {},
     "output_type": "execute_result"
    }
   ],
   "source": [
    "allData['Product_Code'].value_counts()"
   ]
  },
  {
   "cell_type": "code",
   "execution_count": 4,
   "metadata": {},
   "outputs": [],
   "source": [
    "OneProduct = allData"
   ]
  },
  {
   "cell_type": "code",
   "execution_count": 5,
   "metadata": {},
   "outputs": [
    {
     "data": {
      "text/html": [
       "<div>\n",
       "<style scoped>\n",
       "    .dataframe tbody tr th:only-of-type {\n",
       "        vertical-align: middle;\n",
       "    }\n",
       "\n",
       "    .dataframe tbody tr th {\n",
       "        vertical-align: top;\n",
       "    }\n",
       "\n",
       "    .dataframe thead th {\n",
       "        text-align: right;\n",
       "    }\n",
       "</style>\n",
       "<table border=\"1\" class=\"dataframe\">\n",
       "  <thead>\n",
       "    <tr style=\"text-align: right;\">\n",
       "      <th></th>\n",
       "      <th>Product_Code</th>\n",
       "      <th>Warehouse</th>\n",
       "      <th>Product_Category</th>\n",
       "      <th>Date</th>\n",
       "      <th>Order_Demand</th>\n",
       "    </tr>\n",
       "  </thead>\n",
       "  <tbody>\n",
       "    <tr>\n",
       "      <th>276</th>\n",
       "      <td>Product_1359</td>\n",
       "      <td>Whse_J</td>\n",
       "      <td>Category_019</td>\n",
       "      <td>2012/4/18</td>\n",
       "      <td>80000</td>\n",
       "    </tr>\n",
       "    <tr>\n",
       "      <th>282</th>\n",
       "      <td>Product_1359</td>\n",
       "      <td>Whse_J</td>\n",
       "      <td>Category_019</td>\n",
       "      <td>2012/5/21</td>\n",
       "      <td>70000</td>\n",
       "    </tr>\n",
       "    <tr>\n",
       "      <th>289</th>\n",
       "      <td>Product_1359</td>\n",
       "      <td>Whse_J</td>\n",
       "      <td>Category_019</td>\n",
       "      <td>2012/6/26</td>\n",
       "      <td>80000</td>\n",
       "    </tr>\n",
       "    <tr>\n",
       "      <th>292</th>\n",
       "      <td>Product_1359</td>\n",
       "      <td>Whse_J</td>\n",
       "      <td>Category_019</td>\n",
       "      <td>2012/7/17</td>\n",
       "      <td>100000</td>\n",
       "    </tr>\n",
       "    <tr>\n",
       "      <th>296</th>\n",
       "      <td>Product_1359</td>\n",
       "      <td>Whse_J</td>\n",
       "      <td>Category_019</td>\n",
       "      <td>2012/8/24</td>\n",
       "      <td>100000</td>\n",
       "    </tr>\n",
       "    <tr>\n",
       "      <th>...</th>\n",
       "      <td>...</td>\n",
       "      <td>...</td>\n",
       "      <td>...</td>\n",
       "      <td>...</td>\n",
       "      <td>...</td>\n",
       "    </tr>\n",
       "    <tr>\n",
       "      <th>1046514</th>\n",
       "      <td>Product_1359</td>\n",
       "      <td>Whse_J</td>\n",
       "      <td>Category_019</td>\n",
       "      <td>2016/10/3</td>\n",
       "      <td>20000</td>\n",
       "    </tr>\n",
       "    <tr>\n",
       "      <th>1046515</th>\n",
       "      <td>Product_1359</td>\n",
       "      <td>Whse_J</td>\n",
       "      <td>Category_019</td>\n",
       "      <td>2016/9/16</td>\n",
       "      <td>10000</td>\n",
       "    </tr>\n",
       "    <tr>\n",
       "      <th>1046516</th>\n",
       "      <td>Product_1359</td>\n",
       "      <td>Whse_J</td>\n",
       "      <td>Category_019</td>\n",
       "      <td>2016/11/1</td>\n",
       "      <td>30000</td>\n",
       "    </tr>\n",
       "    <tr>\n",
       "      <th>1046517</th>\n",
       "      <td>Product_1359</td>\n",
       "      <td>Whse_J</td>\n",
       "      <td>Category_019</td>\n",
       "      <td>2016/12/1</td>\n",
       "      <td>20000</td>\n",
       "    </tr>\n",
       "    <tr>\n",
       "      <th>1046518</th>\n",
       "      <td>Product_1359</td>\n",
       "      <td>Whse_J</td>\n",
       "      <td>Category_019</td>\n",
       "      <td>2016/12/9</td>\n",
       "      <td>20000</td>\n",
       "    </tr>\n",
       "  </tbody>\n",
       "</table>\n",
       "<p>16936 rows × 5 columns</p>\n",
       "</div>"
      ],
      "text/plain": [
       "         Product_Code Warehouse Product_Category       Date Order_Demand\n",
       "276      Product_1359    Whse_J     Category_019  2012/4/18       80000 \n",
       "282      Product_1359    Whse_J     Category_019  2012/5/21       70000 \n",
       "289      Product_1359    Whse_J     Category_019  2012/6/26       80000 \n",
       "292      Product_1359    Whse_J     Category_019  2012/7/17      100000 \n",
       "296      Product_1359    Whse_J     Category_019  2012/8/24      100000 \n",
       "...               ...       ...              ...        ...          ...\n",
       "1046514  Product_1359    Whse_J     Category_019  2016/10/3       20000 \n",
       "1046515  Product_1359    Whse_J     Category_019  2016/9/16       10000 \n",
       "1046516  Product_1359    Whse_J     Category_019  2016/11/1       30000 \n",
       "1046517  Product_1359    Whse_J     Category_019  2016/12/1       20000 \n",
       "1046518  Product_1359    Whse_J     Category_019  2016/12/9       20000 \n",
       "\n",
       "[16936 rows x 5 columns]"
      ]
     },
     "execution_count": 5,
     "metadata": {},
     "output_type": "execute_result"
    }
   ],
   "source": [
    "#Attempt 1 at filter out all product_codes except 1359\n",
    "OneProduct = OneProduct[(OneProduct.Product_Code == 'Product_1359')]\n",
    "OneProduct"
   ]
  },
  {
   "cell_type": "code",
   "execution_count": 6,
   "metadata": {},
   "outputs": [
    {
     "data": {
      "text/html": [
       "<div>\n",
       "<style scoped>\n",
       "    .dataframe tbody tr th:only-of-type {\n",
       "        vertical-align: middle;\n",
       "    }\n",
       "\n",
       "    .dataframe tbody tr th {\n",
       "        vertical-align: top;\n",
       "    }\n",
       "\n",
       "    .dataframe thead th {\n",
       "        text-align: right;\n",
       "    }\n",
       "</style>\n",
       "<table border=\"1\" class=\"dataframe\">\n",
       "  <thead>\n",
       "    <tr style=\"text-align: right;\">\n",
       "      <th></th>\n",
       "      <th>Product_Code</th>\n",
       "      <th>Warehouse</th>\n",
       "      <th>Product_Category</th>\n",
       "      <th>Date</th>\n",
       "      <th>Order_Demand</th>\n",
       "    </tr>\n",
       "  </thead>\n",
       "  <tbody>\n",
       "    <tr>\n",
       "      <th>276</th>\n",
       "      <td>Product_1359</td>\n",
       "      <td>Whse_J</td>\n",
       "      <td>Category_019</td>\n",
       "      <td>2012/4/18</td>\n",
       "      <td>80000</td>\n",
       "    </tr>\n",
       "    <tr>\n",
       "      <th>282</th>\n",
       "      <td>Product_1359</td>\n",
       "      <td>Whse_J</td>\n",
       "      <td>Category_019</td>\n",
       "      <td>2012/5/21</td>\n",
       "      <td>70000</td>\n",
       "    </tr>\n",
       "    <tr>\n",
       "      <th>289</th>\n",
       "      <td>Product_1359</td>\n",
       "      <td>Whse_J</td>\n",
       "      <td>Category_019</td>\n",
       "      <td>2012/6/26</td>\n",
       "      <td>80000</td>\n",
       "    </tr>\n",
       "    <tr>\n",
       "      <th>292</th>\n",
       "      <td>Product_1359</td>\n",
       "      <td>Whse_J</td>\n",
       "      <td>Category_019</td>\n",
       "      <td>2012/7/17</td>\n",
       "      <td>100000</td>\n",
       "    </tr>\n",
       "    <tr>\n",
       "      <th>296</th>\n",
       "      <td>Product_1359</td>\n",
       "      <td>Whse_J</td>\n",
       "      <td>Category_019</td>\n",
       "      <td>2012/8/24</td>\n",
       "      <td>100000</td>\n",
       "    </tr>\n",
       "    <tr>\n",
       "      <th>...</th>\n",
       "      <td>...</td>\n",
       "      <td>...</td>\n",
       "      <td>...</td>\n",
       "      <td>...</td>\n",
       "      <td>...</td>\n",
       "    </tr>\n",
       "    <tr>\n",
       "      <th>1046514</th>\n",
       "      <td>Product_1359</td>\n",
       "      <td>Whse_J</td>\n",
       "      <td>Category_019</td>\n",
       "      <td>2016/10/3</td>\n",
       "      <td>20000</td>\n",
       "    </tr>\n",
       "    <tr>\n",
       "      <th>1046515</th>\n",
       "      <td>Product_1359</td>\n",
       "      <td>Whse_J</td>\n",
       "      <td>Category_019</td>\n",
       "      <td>2016/9/16</td>\n",
       "      <td>10000</td>\n",
       "    </tr>\n",
       "    <tr>\n",
       "      <th>1046516</th>\n",
       "      <td>Product_1359</td>\n",
       "      <td>Whse_J</td>\n",
       "      <td>Category_019</td>\n",
       "      <td>2016/11/1</td>\n",
       "      <td>30000</td>\n",
       "    </tr>\n",
       "    <tr>\n",
       "      <th>1046517</th>\n",
       "      <td>Product_1359</td>\n",
       "      <td>Whse_J</td>\n",
       "      <td>Category_019</td>\n",
       "      <td>2016/12/1</td>\n",
       "      <td>20000</td>\n",
       "    </tr>\n",
       "    <tr>\n",
       "      <th>1046518</th>\n",
       "      <td>Product_1359</td>\n",
       "      <td>Whse_J</td>\n",
       "      <td>Category_019</td>\n",
       "      <td>2016/12/9</td>\n",
       "      <td>20000</td>\n",
       "    </tr>\n",
       "  </tbody>\n",
       "</table>\n",
       "<p>16936 rows × 5 columns</p>\n",
       "</div>"
      ],
      "text/plain": [
       "         Product_Code Warehouse Product_Category       Date Order_Demand\n",
       "276      Product_1359    Whse_J     Category_019  2012/4/18       80000 \n",
       "282      Product_1359    Whse_J     Category_019  2012/5/21       70000 \n",
       "289      Product_1359    Whse_J     Category_019  2012/6/26       80000 \n",
       "292      Product_1359    Whse_J     Category_019  2012/7/17      100000 \n",
       "296      Product_1359    Whse_J     Category_019  2012/8/24      100000 \n",
       "...               ...       ...              ...        ...          ...\n",
       "1046514  Product_1359    Whse_J     Category_019  2016/10/3       20000 \n",
       "1046515  Product_1359    Whse_J     Category_019  2016/9/16       10000 \n",
       "1046516  Product_1359    Whse_J     Category_019  2016/11/1       30000 \n",
       "1046517  Product_1359    Whse_J     Category_019  2016/12/1       20000 \n",
       "1046518  Product_1359    Whse_J     Category_019  2016/12/9       20000 \n",
       "\n",
       "[16936 rows x 5 columns]"
      ]
     },
     "execution_count": 6,
     "metadata": {},
     "output_type": "execute_result"
    }
   ],
   "source": [
    "#attempt 2, matches attempt 1\n",
    "filter = OneProduct['Product_Code'].str.contains(\"Product_1359\")\n",
    "OneProduct = OneProduct[filter]\n",
    "OneProduct"
   ]
  },
  {
   "cell_type": "code",
   "execution_count": 7,
   "metadata": {},
   "outputs": [],
   "source": [
    "#Remove columns per report\n",
    "del OneProduct['Warehouse']"
   ]
  },
  {
   "cell_type": "code",
   "execution_count": 8,
   "metadata": {},
   "outputs": [
    {
     "name": "stdout",
     "output_type": "stream",
     "text": [
      "*****In the MLBElo set*****\n",
      "Product_Code        0\n",
      "Product_Category    0\n",
      "Date                0\n",
      "Order_Demand        0\n",
      "dtype: int64\n"
     ]
    }
   ],
   "source": [
    "# where are the values missing\n",
    "print(\"*****In the MLBElo set*****\")\n",
    "print(OneProduct.isna().sum())"
   ]
  },
  {
   "cell_type": "code",
   "execution_count": 9,
   "metadata": {},
   "outputs": [
    {
     "name": "stdout",
     "output_type": "stream",
     "text": [
      "<class 'pandas.core.frame.DataFrame'>\n",
      "Int64Index: 16936 entries, 276 to 1046518\n",
      "Data columns (total 4 columns):\n",
      " #   Column            Non-Null Count  Dtype \n",
      "---  ------            --------------  ----- \n",
      " 0   Product_Code      16936 non-null  object\n",
      " 1   Product_Category  16936 non-null  object\n",
      " 2   Date              16936 non-null  object\n",
      " 3   Order_Demand      16936 non-null  object\n",
      "dtypes: object(4)\n",
      "memory usage: 661.6+ KB\n"
     ]
    }
   ],
   "source": [
    "# See types of features\n",
    "OneProduct.info()"
   ]
  },
  {
   "cell_type": "code",
   "execution_count": 10,
   "metadata": {},
   "outputs": [],
   "source": [
    "#Attempt at making date a proper datatype\n",
    "#OneProduct['Date'] = pd.to_datetime(OneProduct['Date'])"
   ]
  },
  {
   "cell_type": "code",
   "execution_count": 11,
   "metadata": {},
   "outputs": [
    {
     "data": {
      "text/plain": [
       "276       2012-04-18\n",
       "282       2012-05-21\n",
       "289       2012-06-26\n",
       "292       2012-07-17\n",
       "296       2012-08-24\n",
       "             ...    \n",
       "1046514   2016-10-03\n",
       "1046515   2016-09-16\n",
       "1046516   2016-11-01\n",
       "1046517   2016-12-01\n",
       "1046518   2016-12-09\n",
       "Length: 16936, dtype: datetime64[ns]"
      ]
     },
     "execution_count": 11,
     "metadata": {},
     "output_type": "execute_result"
    }
   ],
   "source": [
    "def calculate_date(row):\n",
    "    return pd.to_datetime(row['Date'])\n",
    "\n",
    "OneProduct.apply(calculate_date, axis=1)"
   ]
  },
  {
   "cell_type": "code",
   "execution_count": 12,
   "metadata": {},
   "outputs": [
    {
     "data": {
      "text/html": [
       "<div>\n",
       "<style scoped>\n",
       "    .dataframe tbody tr th:only-of-type {\n",
       "        vertical-align: middle;\n",
       "    }\n",
       "\n",
       "    .dataframe tbody tr th {\n",
       "        vertical-align: top;\n",
       "    }\n",
       "\n",
       "    .dataframe thead th {\n",
       "        text-align: right;\n",
       "    }\n",
       "</style>\n",
       "<table border=\"1\" class=\"dataframe\">\n",
       "  <thead>\n",
       "    <tr style=\"text-align: right;\">\n",
       "      <th></th>\n",
       "      <th>Product_Code</th>\n",
       "      <th>Product_Category</th>\n",
       "      <th>Date</th>\n",
       "      <th>Order_Demand</th>\n",
       "    </tr>\n",
       "  </thead>\n",
       "  <tbody>\n",
       "    <tr>\n",
       "      <th>276</th>\n",
       "      <td>Product_1359</td>\n",
       "      <td>Category_019</td>\n",
       "      <td>2012-04-18</td>\n",
       "      <td>80000</td>\n",
       "    </tr>\n",
       "    <tr>\n",
       "      <th>282</th>\n",
       "      <td>Product_1359</td>\n",
       "      <td>Category_019</td>\n",
       "      <td>2012-05-21</td>\n",
       "      <td>70000</td>\n",
       "    </tr>\n",
       "    <tr>\n",
       "      <th>289</th>\n",
       "      <td>Product_1359</td>\n",
       "      <td>Category_019</td>\n",
       "      <td>2012-06-26</td>\n",
       "      <td>80000</td>\n",
       "    </tr>\n",
       "    <tr>\n",
       "      <th>292</th>\n",
       "      <td>Product_1359</td>\n",
       "      <td>Category_019</td>\n",
       "      <td>2012-07-17</td>\n",
       "      <td>100000</td>\n",
       "    </tr>\n",
       "    <tr>\n",
       "      <th>296</th>\n",
       "      <td>Product_1359</td>\n",
       "      <td>Category_019</td>\n",
       "      <td>2012-08-24</td>\n",
       "      <td>100000</td>\n",
       "    </tr>\n",
       "    <tr>\n",
       "      <th>...</th>\n",
       "      <td>...</td>\n",
       "      <td>...</td>\n",
       "      <td>...</td>\n",
       "      <td>...</td>\n",
       "    </tr>\n",
       "    <tr>\n",
       "      <th>1046514</th>\n",
       "      <td>Product_1359</td>\n",
       "      <td>Category_019</td>\n",
       "      <td>2016-10-03</td>\n",
       "      <td>20000</td>\n",
       "    </tr>\n",
       "    <tr>\n",
       "      <th>1046515</th>\n",
       "      <td>Product_1359</td>\n",
       "      <td>Category_019</td>\n",
       "      <td>2016-09-16</td>\n",
       "      <td>10000</td>\n",
       "    </tr>\n",
       "    <tr>\n",
       "      <th>1046516</th>\n",
       "      <td>Product_1359</td>\n",
       "      <td>Category_019</td>\n",
       "      <td>2016-11-01</td>\n",
       "      <td>30000</td>\n",
       "    </tr>\n",
       "    <tr>\n",
       "      <th>1046517</th>\n",
       "      <td>Product_1359</td>\n",
       "      <td>Category_019</td>\n",
       "      <td>2016-12-01</td>\n",
       "      <td>20000</td>\n",
       "    </tr>\n",
       "    <tr>\n",
       "      <th>1046518</th>\n",
       "      <td>Product_1359</td>\n",
       "      <td>Category_019</td>\n",
       "      <td>2016-12-09</td>\n",
       "      <td>20000</td>\n",
       "    </tr>\n",
       "  </tbody>\n",
       "</table>\n",
       "<p>16936 rows × 4 columns</p>\n",
       "</div>"
      ],
      "text/plain": [
       "         Product_Code Product_Category       Date Order_Demand\n",
       "276      Product_1359     Category_019 2012-04-18       80000 \n",
       "282      Product_1359     Category_019 2012-05-21       70000 \n",
       "289      Product_1359     Category_019 2012-06-26       80000 \n",
       "292      Product_1359     Category_019 2012-07-17      100000 \n",
       "296      Product_1359     Category_019 2012-08-24      100000 \n",
       "...               ...              ...        ...          ...\n",
       "1046514  Product_1359     Category_019 2016-10-03       20000 \n",
       "1046515  Product_1359     Category_019 2016-09-16       10000 \n",
       "1046516  Product_1359     Category_019 2016-11-01       30000 \n",
       "1046517  Product_1359     Category_019 2016-12-01       20000 \n",
       "1046518  Product_1359     Category_019 2016-12-09       20000 \n",
       "\n",
       "[16936 rows x 4 columns]"
      ]
     },
     "execution_count": 12,
     "metadata": {},
     "output_type": "execute_result"
    }
   ],
   "source": [
    "OneProduct['Date'] = OneProduct.apply(calculate_date, axis=1)\n",
    "OneProduct"
   ]
  },
  {
   "cell_type": "code",
   "execution_count": 13,
   "metadata": {},
   "outputs": [
    {
     "data": {
      "text/html": [
       "<div>\n",
       "<style scoped>\n",
       "    .dataframe tbody tr th:only-of-type {\n",
       "        vertical-align: middle;\n",
       "    }\n",
       "\n",
       "    .dataframe tbody tr th {\n",
       "        vertical-align: top;\n",
       "    }\n",
       "\n",
       "    .dataframe thead th {\n",
       "        text-align: right;\n",
       "    }\n",
       "</style>\n",
       "<table border=\"1\" class=\"dataframe\">\n",
       "  <thead>\n",
       "    <tr style=\"text-align: right;\">\n",
       "      <th></th>\n",
       "      <th>0</th>\n",
       "    </tr>\n",
       "  </thead>\n",
       "  <tbody>\n",
       "    <tr>\n",
       "      <th>276</th>\n",
       "      <td>80000</td>\n",
       "    </tr>\n",
       "    <tr>\n",
       "      <th>282</th>\n",
       "      <td>70000</td>\n",
       "    </tr>\n",
       "    <tr>\n",
       "      <th>289</th>\n",
       "      <td>80000</td>\n",
       "    </tr>\n",
       "    <tr>\n",
       "      <th>292</th>\n",
       "      <td>100000</td>\n",
       "    </tr>\n",
       "    <tr>\n",
       "      <th>296</th>\n",
       "      <td>100000</td>\n",
       "    </tr>\n",
       "    <tr>\n",
       "      <th>...</th>\n",
       "      <td>...</td>\n",
       "    </tr>\n",
       "    <tr>\n",
       "      <th>1046514</th>\n",
       "      <td>20000</td>\n",
       "    </tr>\n",
       "    <tr>\n",
       "      <th>1046515</th>\n",
       "      <td>10000</td>\n",
       "    </tr>\n",
       "    <tr>\n",
       "      <th>1046516</th>\n",
       "      <td>30000</td>\n",
       "    </tr>\n",
       "    <tr>\n",
       "      <th>1046517</th>\n",
       "      <td>20000</td>\n",
       "    </tr>\n",
       "    <tr>\n",
       "      <th>1046518</th>\n",
       "      <td>20000</td>\n",
       "    </tr>\n",
       "  </tbody>\n",
       "</table>\n",
       "<p>16936 rows × 1 columns</p>\n",
       "</div>"
      ],
      "text/plain": [
       "              0\n",
       "276       80000\n",
       "282       70000\n",
       "289       80000\n",
       "292      100000\n",
       "296      100000\n",
       "...         ...\n",
       "1046514   20000\n",
       "1046515   10000\n",
       "1046516   30000\n",
       "1046517   20000\n",
       "1046518   20000\n",
       "\n",
       "[16936 rows x 1 columns]"
      ]
     },
     "execution_count": 13,
     "metadata": {},
     "output_type": "execute_result"
    }
   ],
   "source": [
    "OneProduct['Order_Demand'].astype(str).str.extract(r'([0-9]+)').astype(int)"
   ]
  },
  {
   "cell_type": "code",
   "execution_count": 14,
   "metadata": {},
   "outputs": [],
   "source": [
    "OneProduct['Order_Demand'] = OneProduct['Order_Demand'].replace('\\D', '', regex=True).astype(int)"
   ]
  },
  {
   "cell_type": "code",
   "execution_count": 15,
   "metadata": {},
   "outputs": [
    {
     "data": {
      "text/html": [
       "<div>\n",
       "<style scoped>\n",
       "    .dataframe tbody tr th:only-of-type {\n",
       "        vertical-align: middle;\n",
       "    }\n",
       "\n",
       "    .dataframe tbody tr th {\n",
       "        vertical-align: top;\n",
       "    }\n",
       "\n",
       "    .dataframe thead th {\n",
       "        text-align: right;\n",
       "    }\n",
       "</style>\n",
       "<table border=\"1\" class=\"dataframe\">\n",
       "  <thead>\n",
       "    <tr style=\"text-align: right;\">\n",
       "      <th></th>\n",
       "      <th>Product_Code</th>\n",
       "      <th>Product_Category</th>\n",
       "      <th>Date</th>\n",
       "      <th>Order_Demand</th>\n",
       "    </tr>\n",
       "  </thead>\n",
       "  <tbody>\n",
       "    <tr>\n",
       "      <th>276</th>\n",
       "      <td>Product_1359</td>\n",
       "      <td>Category_019</td>\n",
       "      <td>2012-04-18</td>\n",
       "      <td>80000</td>\n",
       "    </tr>\n",
       "    <tr>\n",
       "      <th>282</th>\n",
       "      <td>Product_1359</td>\n",
       "      <td>Category_019</td>\n",
       "      <td>2012-05-21</td>\n",
       "      <td>70000</td>\n",
       "    </tr>\n",
       "    <tr>\n",
       "      <th>289</th>\n",
       "      <td>Product_1359</td>\n",
       "      <td>Category_019</td>\n",
       "      <td>2012-06-26</td>\n",
       "      <td>80000</td>\n",
       "    </tr>\n",
       "    <tr>\n",
       "      <th>292</th>\n",
       "      <td>Product_1359</td>\n",
       "      <td>Category_019</td>\n",
       "      <td>2012-07-17</td>\n",
       "      <td>100000</td>\n",
       "    </tr>\n",
       "    <tr>\n",
       "      <th>296</th>\n",
       "      <td>Product_1359</td>\n",
       "      <td>Category_019</td>\n",
       "      <td>2012-08-24</td>\n",
       "      <td>100000</td>\n",
       "    </tr>\n",
       "    <tr>\n",
       "      <th>...</th>\n",
       "      <td>...</td>\n",
       "      <td>...</td>\n",
       "      <td>...</td>\n",
       "      <td>...</td>\n",
       "    </tr>\n",
       "    <tr>\n",
       "      <th>1046514</th>\n",
       "      <td>Product_1359</td>\n",
       "      <td>Category_019</td>\n",
       "      <td>2016-10-03</td>\n",
       "      <td>20000</td>\n",
       "    </tr>\n",
       "    <tr>\n",
       "      <th>1046515</th>\n",
       "      <td>Product_1359</td>\n",
       "      <td>Category_019</td>\n",
       "      <td>2016-09-16</td>\n",
       "      <td>10000</td>\n",
       "    </tr>\n",
       "    <tr>\n",
       "      <th>1046516</th>\n",
       "      <td>Product_1359</td>\n",
       "      <td>Category_019</td>\n",
       "      <td>2016-11-01</td>\n",
       "      <td>30000</td>\n",
       "    </tr>\n",
       "    <tr>\n",
       "      <th>1046517</th>\n",
       "      <td>Product_1359</td>\n",
       "      <td>Category_019</td>\n",
       "      <td>2016-12-01</td>\n",
       "      <td>20000</td>\n",
       "    </tr>\n",
       "    <tr>\n",
       "      <th>1046518</th>\n",
       "      <td>Product_1359</td>\n",
       "      <td>Category_019</td>\n",
       "      <td>2016-12-09</td>\n",
       "      <td>20000</td>\n",
       "    </tr>\n",
       "  </tbody>\n",
       "</table>\n",
       "<p>16936 rows × 4 columns</p>\n",
       "</div>"
      ],
      "text/plain": [
       "         Product_Code Product_Category       Date  Order_Demand\n",
       "276      Product_1359     Category_019 2012-04-18         80000\n",
       "282      Product_1359     Category_019 2012-05-21         70000\n",
       "289      Product_1359     Category_019 2012-06-26         80000\n",
       "292      Product_1359     Category_019 2012-07-17        100000\n",
       "296      Product_1359     Category_019 2012-08-24        100000\n",
       "...               ...              ...        ...           ...\n",
       "1046514  Product_1359     Category_019 2016-10-03         20000\n",
       "1046515  Product_1359     Category_019 2016-09-16         10000\n",
       "1046516  Product_1359     Category_019 2016-11-01         30000\n",
       "1046517  Product_1359     Category_019 2016-12-01         20000\n",
       "1046518  Product_1359     Category_019 2016-12-09         20000\n",
       "\n",
       "[16936 rows x 4 columns]"
      ]
     },
     "execution_count": 15,
     "metadata": {},
     "output_type": "execute_result"
    }
   ],
   "source": [
    "OneProduct"
   ]
  },
  {
   "cell_type": "code",
   "execution_count": 16,
   "metadata": {},
   "outputs": [
    {
     "name": "stdout",
     "output_type": "stream",
     "text": [
      "<class 'pandas.core.frame.DataFrame'>\n",
      "Int64Index: 16936 entries, 276 to 1046518\n",
      "Data columns (total 4 columns):\n",
      " #   Column            Non-Null Count  Dtype         \n",
      "---  ------            --------------  -----         \n",
      " 0   Product_Code      16936 non-null  object        \n",
      " 1   Product_Category  16936 non-null  object        \n",
      " 2   Date              16936 non-null  datetime64[ns]\n",
      " 3   Order_Demand      16936 non-null  int32         \n",
      "dtypes: datetime64[ns](1), int32(1), object(2)\n",
      "memory usage: 595.4+ KB\n"
     ]
    }
   ],
   "source": [
    "OneProduct.info()\n"
   ]
  },
  {
   "cell_type": "code",
   "execution_count": 17,
   "metadata": {},
   "outputs": [],
   "source": [
    "#Drop product code and category, unneeded\n",
    "#Remove columns per report\n",
    "del OneProduct['Product_Code']\n",
    "del OneProduct['Product_Category']\n"
   ]
  },
  {
   "cell_type": "code",
   "execution_count": null,
   "metadata": {},
   "outputs": [],
   "source": []
  },
  {
   "cell_type": "code",
   "execution_count": 18,
   "metadata": {},
   "outputs": [],
   "source": [
    "#Date to number\n",
    "from matplotlib.dates import date2num       #-->Update\n",
    "OneProduct['Date'] = OneProduct['Date'].apply(date2num)      #-->Update"
   ]
  },
  {
   "cell_type": "code",
   "execution_count": 19,
   "metadata": {},
   "outputs": [],
   "source": [
    "#Attempt 1: Linear Regression!\n",
    "\n",
    "# From: https://www.wintellect.com/creating-a-simple-linear-regression-machine-learning-model-with-scikit-learn/\n",
    "#Make train/test data\n",
    "from sklearn.model_selection import train_test_split\n",
    "\n",
    "train_set, test_set = train_test_split(OneProduct, test_size=0.2, random_state=42)\n",
    "train_set_copy = train_set.copy()"
   ]
  },
  {
   "cell_type": "code",
   "execution_count": 20,
   "metadata": {},
   "outputs": [
    {
     "data": {
      "text/html": [
       "<div>\n",
       "<style scoped>\n",
       "    .dataframe tbody tr th:only-of-type {\n",
       "        vertical-align: middle;\n",
       "    }\n",
       "\n",
       "    .dataframe tbody tr th {\n",
       "        vertical-align: top;\n",
       "    }\n",
       "\n",
       "    .dataframe thead th {\n",
       "        text-align: right;\n",
       "    }\n",
       "</style>\n",
       "<table border=\"1\" class=\"dataframe\">\n",
       "  <thead>\n",
       "    <tr style=\"text-align: right;\">\n",
       "      <th></th>\n",
       "      <th>Date</th>\n",
       "      <th>Order_Demand</th>\n",
       "    </tr>\n",
       "  </thead>\n",
       "  <tbody>\n",
       "    <tr>\n",
       "      <th>count</th>\n",
       "      <td>13548.000000</td>\n",
       "      <td>1.354800e+04</td>\n",
       "    </tr>\n",
       "    <tr>\n",
       "      <th>mean</th>\n",
       "      <td>735363.197815</td>\n",
       "      <td>2.802081e+04</td>\n",
       "    </tr>\n",
       "    <tr>\n",
       "      <th>std</th>\n",
       "      <td>520.709726</td>\n",
       "      <td>7.084522e+04</td>\n",
       "    </tr>\n",
       "    <tr>\n",
       "      <th>min</th>\n",
       "      <td>734507.000000</td>\n",
       "      <td>0.000000e+00</td>\n",
       "    </tr>\n",
       "    <tr>\n",
       "      <th>25%</th>\n",
       "      <td>734917.000000</td>\n",
       "      <td>3.000000e+03</td>\n",
       "    </tr>\n",
       "    <tr>\n",
       "      <th>50%</th>\n",
       "      <td>735334.000000</td>\n",
       "      <td>1.000000e+04</td>\n",
       "    </tr>\n",
       "    <tr>\n",
       "      <th>75%</th>\n",
       "      <td>735793.000000</td>\n",
       "      <td>2.500000e+04</td>\n",
       "    </tr>\n",
       "    <tr>\n",
       "      <th>max</th>\n",
       "      <td>736326.000000</td>\n",
       "      <td>2.000000e+06</td>\n",
       "    </tr>\n",
       "  </tbody>\n",
       "</table>\n",
       "</div>"
      ],
      "text/plain": [
       "                Date  Order_Demand\n",
       "count   13548.000000  1.354800e+04\n",
       "mean   735363.197815  2.802081e+04\n",
       "std       520.709726  7.084522e+04\n",
       "min    734507.000000  0.000000e+00\n",
       "25%    734917.000000  3.000000e+03\n",
       "50%    735334.000000  1.000000e+04\n",
       "75%    735793.000000  2.500000e+04\n",
       "max    736326.000000  2.000000e+06"
      ]
     },
     "execution_count": 20,
     "metadata": {},
     "output_type": "execute_result"
    }
   ],
   "source": [
    "#Exploratory Data Analysis\n",
    "train_set_copy.describe()"
   ]
  },
  {
   "cell_type": "code",
   "execution_count": 21,
   "metadata": {},
   "outputs": [
    {
     "data": {
      "text/plain": [
       "<matplotlib.axes._subplots.AxesSubplot at 0x21d94a85a90>"
      ]
     },
     "execution_count": 21,
     "metadata": {},
     "output_type": "execute_result"
    },
    {
     "data": {
      "image/png": "[encoded data removed]",
      "text/plain": [
       "<Figure size 432x288 with 1 Axes>"
      ]
     },
     "metadata": {
      "needs_background": "light"
     },
     "output_type": "display_data"
    }
   ],
   "source": [
    "#Simple scatter plot example\n",
    "train_set_copy.plot.scatter(x='Date', y='Order_Demand')"
   ]
  },
  {
   "cell_type": "code",
   "execution_count": 22,
   "metadata": {},
   "outputs": [
    {
     "data": {
      "text/plain": [
       "<matplotlib.axes._subplots.AxesSubplot at 0x21d94e3d7f0>"
      ]
     },
     "execution_count": 22,
     "metadata": {},
     "output_type": "execute_result"
    },
    {
     "data": {
      "image/png": "[encoded data removed]",
      "text/plain": [
       "<Figure size 432x288 with 1 Axes>"
      ]
     },
     "metadata": {
      "needs_background": "light"
     },
     "output_type": "display_data"
    }
   ],
   "source": [
    "import seaborn as sns\n",
    "# Regression plot\n",
    "sns.regplot('Date', # Horizontal axis\n",
    "           'Order_Demand', # Vertical axis\n",
    "           data=train_set_copy)"
   ]
  },
  {
   "cell_type": "code",
   "execution_count": 23,
   "metadata": {},
   "outputs": [],
   "source": [
    "#Building the Model\n",
    "train_set_full = train_set.copy()\n",
    "\n",
    "train_set = train_set.drop([\"Order_Demand\"], axis=1)\n",
    "\n",
    "test_set_full = test_set.copy()\n",
    "\n",
    "test_set = test_set.drop([\"Order_Demand\"], axis=1)"
   ]
  },
  {
   "cell_type": "code",
   "execution_count": 24,
   "metadata": {},
   "outputs": [
    {
     "data": {
      "text/plain": [
       "LinearRegression()"
      ]
     },
     "execution_count": 24,
     "metadata": {},
     "output_type": "execute_result"
    }
   ],
   "source": [
    "from sklearn.linear_model import LinearRegression\n",
    "train_labels = train_set_copy[\"Order_Demand\"]\n",
    "lin_reg = LinearRegression()\n",
    "\n",
    "lin_reg.fit(train_set, train_labels)"
   ]
  },
  {
   "cell_type": "code",
   "execution_count": 25,
   "metadata": {},
   "outputs": [
    {
     "name": "stdout",
     "output_type": "stream",
     "text": [
      "Coefficients:  [3.08792527]\n",
      "Intercept:  -2242725.785491728\n"
     ]
    }
   ],
   "source": [
    "print(\"Coefficients: \", lin_reg.coef_)\n",
    "print(\"Intercept: \", lin_reg.intercept_)"
   ]
  },
  {
   "cell_type": "code",
   "execution_count": 26,
   "metadata": {},
   "outputs": [
    {
     "data": {
      "text/plain": [
       "array([27075.29890965, 28461.7773554 , 25917.32693381, ...,\n",
       "       28572.94266508, 27211.16762149, 26825.17696287])"
      ]
     },
     "execution_count": 26,
     "metadata": {},
     "output_type": "execute_result"
    }
   ],
   "source": [
    "#prediction from an input\n",
    "order_pred = lin_reg.predict(test_set)\n",
    "order_pred"
   ]
  },
  {
   "cell_type": "code",
   "execution_count": 27,
   "metadata": {},
   "outputs": [
    {
     "name": "stdout",
     "output_type": "stream",
     "text": [
      "[27075.29890965 28461.7773554  25917.32693381 ... 28572.94266508\n",
      " 27211.16762149 26825.17696287]\n",
      "207890    12000\n",
      "469815     5000\n",
      "47350     40000\n",
      "662740     1000\n",
      "453747     2000\n",
      "          ...  \n",
      "893451     4000\n",
      "49951      5000\n",
      "469849     2000\n",
      "256478    10000\n",
      "227784     1000\n",
      "Name: Order_Demand, Length: 3388, dtype: int32\n"
     ]
    }
   ],
   "source": [
    "#compare the predictions to the test set [score1]\n",
    "print(order_pred)\n",
    "print(test_set_full[\"Order_Demand\"])"
   ]
  },
  {
   "cell_type": "code",
   "execution_count": 28,
   "metadata": {},
   "outputs": [
    {
     "data": {
      "text/plain": [
       "0.00016782928747915982"
      ]
     },
     "execution_count": 28,
     "metadata": {},
     "output_type": "execute_result"
    }
   ],
   "source": [
    "#calculates the coefficient of determination or the r^2 of the model\n",
    "from sklearn.metrics import r2_score\n",
    "r2_score(test_set_full[\"Order_Demand\"], order_pred)"
   ]
  },
  {
   "cell_type": "code",
   "execution_count": 29,
   "metadata": {},
   "outputs": [
    {
     "data": {
      "text/plain": [
       "[<matplotlib.lines.Line2D at 0x21d956f12e0>]"
      ]
     },
     "execution_count": 29,
     "metadata": {},
     "output_type": "execute_result"
    },
    {
     "data": {
      "image/png": "[encoded data removed]",
      "text/plain": [
       "<Figure size 432x288 with 1 Axes>"
      ]
     },
     "metadata": {
      "needs_background": "light"
     },
     "output_type": "display_data"
    }
   ],
   "source": [
    "import matplotlib.pyplot as plt\n",
    "plt.scatter(test_set_full[\"Date\"], test_set_full[\"Order_Demand\"],  color='blue')\n",
    "plt.plot(test_set_full[\"Date\"], order_pred, color='red', linewidth=2)"
   ]
  },
  {
   "cell_type": "code",
   "execution_count": 30,
   "metadata": {},
   "outputs": [
    {
     "data": {
      "text/plain": [
       "<matplotlib.axes._subplots.AxesSubplot at 0x21d9571c790>"
      ]
     },
     "execution_count": 30,
     "metadata": {},
     "output_type": "execute_result"
    },
    {
     "data": {
      "image/png": "[encoded data removed]",
      "text/plain": [
       "<Figure size 432x288 with 1 Axes>"
      ]
     },
     "metadata": {
      "needs_background": "light"
     },
     "output_type": "display_data"
    }
   ],
   "source": [
    "#Attempt 2\n",
    "import seaborn as sns\n",
    "# Regression plot\n",
    "sns.regplot('Date', # Horizontal axis\n",
    "           'Order_Demand', # Vertical axis\n",
    "           data=train_set_copy)"
   ]
  },
  {
   "cell_type": "code",
   "execution_count": 34,
   "metadata": {},
   "outputs": [],
   "source": [
    "#Remake the data\n",
    "OneProduct2 = allData"
   ]
  },
  {
   "cell_type": "code",
   "execution_count": 35,
   "metadata": {},
   "outputs": [
    {
     "data": {
      "text/html": [
       "<div>\n",
       "<style scoped>\n",
       "    .dataframe tbody tr th:only-of-type {\n",
       "        vertical-align: middle;\n",
       "    }\n",
       "\n",
       "    .dataframe tbody tr th {\n",
       "        vertical-align: top;\n",
       "    }\n",
       "\n",
       "    .dataframe thead th {\n",
       "        text-align: right;\n",
       "    }\n",
       "</style>\n",
       "<table border=\"1\" class=\"dataframe\">\n",
       "  <thead>\n",
       "    <tr style=\"text-align: right;\">\n",
       "      <th></th>\n",
       "      <th>Product_Code</th>\n",
       "      <th>Warehouse</th>\n",
       "      <th>Product_Category</th>\n",
       "      <th>Date</th>\n",
       "      <th>Order_Demand</th>\n",
       "    </tr>\n",
       "  </thead>\n",
       "  <tbody>\n",
       "    <tr>\n",
       "      <th>276</th>\n",
       "      <td>Product_1359</td>\n",
       "      <td>Whse_J</td>\n",
       "      <td>Category_019</td>\n",
       "      <td>2012/4/18</td>\n",
       "      <td>80000</td>\n",
       "    </tr>\n",
       "    <tr>\n",
       "      <th>282</th>\n",
       "      <td>Product_1359</td>\n",
       "      <td>Whse_J</td>\n",
       "      <td>Category_019</td>\n",
       "      <td>2012/5/21</td>\n",
       "      <td>70000</td>\n",
       "    </tr>\n",
       "    <tr>\n",
       "      <th>289</th>\n",
       "      <td>Product_1359</td>\n",
       "      <td>Whse_J</td>\n",
       "      <td>Category_019</td>\n",
       "      <td>2012/6/26</td>\n",
       "      <td>80000</td>\n",
       "    </tr>\n",
       "    <tr>\n",
       "      <th>292</th>\n",
       "      <td>Product_1359</td>\n",
       "      <td>Whse_J</td>\n",
       "      <td>Category_019</td>\n",
       "      <td>2012/7/17</td>\n",
       "      <td>100000</td>\n",
       "    </tr>\n",
       "    <tr>\n",
       "      <th>296</th>\n",
       "      <td>Product_1359</td>\n",
       "      <td>Whse_J</td>\n",
       "      <td>Category_019</td>\n",
       "      <td>2012/8/24</td>\n",
       "      <td>100000</td>\n",
       "    </tr>\n",
       "    <tr>\n",
       "      <th>...</th>\n",
       "      <td>...</td>\n",
       "      <td>...</td>\n",
       "      <td>...</td>\n",
       "      <td>...</td>\n",
       "      <td>...</td>\n",
       "    </tr>\n",
       "    <tr>\n",
       "      <th>1046514</th>\n",
       "      <td>Product_1359</td>\n",
       "      <td>Whse_J</td>\n",
       "      <td>Category_019</td>\n",
       "      <td>2016/10/3</td>\n",
       "      <td>20000</td>\n",
       "    </tr>\n",
       "    <tr>\n",
       "      <th>1046515</th>\n",
       "      <td>Product_1359</td>\n",
       "      <td>Whse_J</td>\n",
       "      <td>Category_019</td>\n",
       "      <td>2016/9/16</td>\n",
       "      <td>10000</td>\n",
       "    </tr>\n",
       "    <tr>\n",
       "      <th>1046516</th>\n",
       "      <td>Product_1359</td>\n",
       "      <td>Whse_J</td>\n",
       "      <td>Category_019</td>\n",
       "      <td>2016/11/1</td>\n",
       "      <td>30000</td>\n",
       "    </tr>\n",
       "    <tr>\n",
       "      <th>1046517</th>\n",
       "      <td>Product_1359</td>\n",
       "      <td>Whse_J</td>\n",
       "      <td>Category_019</td>\n",
       "      <td>2016/12/1</td>\n",
       "      <td>20000</td>\n",
       "    </tr>\n",
       "    <tr>\n",
       "      <th>1046518</th>\n",
       "      <td>Product_1359</td>\n",
       "      <td>Whse_J</td>\n",
       "      <td>Category_019</td>\n",
       "      <td>2016/12/9</td>\n",
       "      <td>20000</td>\n",
       "    </tr>\n",
       "  </tbody>\n",
       "</table>\n",
       "<p>16936 rows × 5 columns</p>\n",
       "</div>"
      ],
      "text/plain": [
       "         Product_Code Warehouse Product_Category       Date Order_Demand\n",
       "276      Product_1359    Whse_J     Category_019  2012/4/18       80000 \n",
       "282      Product_1359    Whse_J     Category_019  2012/5/21       70000 \n",
       "289      Product_1359    Whse_J     Category_019  2012/6/26       80000 \n",
       "292      Product_1359    Whse_J     Category_019  2012/7/17      100000 \n",
       "296      Product_1359    Whse_J     Category_019  2012/8/24      100000 \n",
       "...               ...       ...              ...        ...          ...\n",
       "1046514  Product_1359    Whse_J     Category_019  2016/10/3       20000 \n",
       "1046515  Product_1359    Whse_J     Category_019  2016/9/16       10000 \n",
       "1046516  Product_1359    Whse_J     Category_019  2016/11/1       30000 \n",
       "1046517  Product_1359    Whse_J     Category_019  2016/12/1       20000 \n",
       "1046518  Product_1359    Whse_J     Category_019  2016/12/9       20000 \n",
       "\n",
       "[16936 rows x 5 columns]"
      ]
     },
     "execution_count": 35,
     "metadata": {},
     "output_type": "execute_result"
    }
   ],
   "source": [
    "#Attempt 1 at filter out all product_codes except 1359\n",
    "OneProduct2 = OneProduct2[(OneProduct2.Product_Code == 'Product_1359')]\n",
    "OneProduct2"
   ]
  },
  {
   "cell_type": "code",
   "execution_count": 36,
   "metadata": {},
   "outputs": [],
   "source": [
    "#Remove columns per report\n",
    "del OneProduct2['Warehouse']\n",
    "del OneProduct2['Product_Code']\n",
    "del OneProduct2['Product_Category']"
   ]
  },
  {
   "cell_type": "code",
   "execution_count": 37,
   "metadata": {},
   "outputs": [
    {
     "data": {
      "text/plain": [
       "276       2012-04-18\n",
       "282       2012-05-21\n",
       "289       2012-06-26\n",
       "292       2012-07-17\n",
       "296       2012-08-24\n",
       "             ...    \n",
       "1046514   2016-10-03\n",
       "1046515   2016-09-16\n",
       "1046516   2016-11-01\n",
       "1046517   2016-12-01\n",
       "1046518   2016-12-09\n",
       "Length: 16936, dtype: datetime64[ns]"
      ]
     },
     "execution_count": 37,
     "metadata": {},
     "output_type": "execute_result"
    }
   ],
   "source": [
    "def calculate_date2(row):\n",
    "    return pd.to_datetime(row['Date'])\n",
    "\n",
    "OneProduct2.apply(calculate_date2, axis=1)"
   ]
  },
  {
   "cell_type": "code",
   "execution_count": 38,
   "metadata": {},
   "outputs": [],
   "source": [
    "OneProduct2['Date'] = OneProduct2.apply(calculate_date, axis=1)"
   ]
  },
  {
   "cell_type": "code",
   "execution_count": 39,
   "metadata": {},
   "outputs": [],
   "source": [
    "OneProduct2['Order_Demand'] = OneProduct2['Order_Demand'].replace('\\D', '', regex=True).astype(int)"
   ]
  },
  {
   "cell_type": "code",
   "execution_count": 40,
   "metadata": {},
   "outputs": [
    {
     "data": {
      "text/html": [
       "<div>\n",
       "<style scoped>\n",
       "    .dataframe tbody tr th:only-of-type {\n",
       "        vertical-align: middle;\n",
       "    }\n",
       "\n",
       "    .dataframe tbody tr th {\n",
       "        vertical-align: top;\n",
       "    }\n",
       "\n",
       "    .dataframe thead th {\n",
       "        text-align: right;\n",
       "    }\n",
       "</style>\n",
       "<table border=\"1\" class=\"dataframe\">\n",
       "  <thead>\n",
       "    <tr style=\"text-align: right;\">\n",
       "      <th></th>\n",
       "      <th>Date</th>\n",
       "      <th>Order_Demand</th>\n",
       "    </tr>\n",
       "  </thead>\n",
       "  <tbody>\n",
       "    <tr>\n",
       "      <th>276</th>\n",
       "      <td>2012-04-18</td>\n",
       "      <td>80000</td>\n",
       "    </tr>\n",
       "    <tr>\n",
       "      <th>282</th>\n",
       "      <td>2012-05-21</td>\n",
       "      <td>70000</td>\n",
       "    </tr>\n",
       "    <tr>\n",
       "      <th>289</th>\n",
       "      <td>2012-06-26</td>\n",
       "      <td>80000</td>\n",
       "    </tr>\n",
       "    <tr>\n",
       "      <th>292</th>\n",
       "      <td>2012-07-17</td>\n",
       "      <td>100000</td>\n",
       "    </tr>\n",
       "    <tr>\n",
       "      <th>296</th>\n",
       "      <td>2012-08-24</td>\n",
       "      <td>100000</td>\n",
       "    </tr>\n",
       "    <tr>\n",
       "      <th>...</th>\n",
       "      <td>...</td>\n",
       "      <td>...</td>\n",
       "    </tr>\n",
       "    <tr>\n",
       "      <th>1046514</th>\n",
       "      <td>2016-10-03</td>\n",
       "      <td>20000</td>\n",
       "    </tr>\n",
       "    <tr>\n",
       "      <th>1046515</th>\n",
       "      <td>2016-09-16</td>\n",
       "      <td>10000</td>\n",
       "    </tr>\n",
       "    <tr>\n",
       "      <th>1046516</th>\n",
       "      <td>2016-11-01</td>\n",
       "      <td>30000</td>\n",
       "    </tr>\n",
       "    <tr>\n",
       "      <th>1046517</th>\n",
       "      <td>2016-12-01</td>\n",
       "      <td>20000</td>\n",
       "    </tr>\n",
       "    <tr>\n",
       "      <th>1046518</th>\n",
       "      <td>2016-12-09</td>\n",
       "      <td>20000</td>\n",
       "    </tr>\n",
       "  </tbody>\n",
       "</table>\n",
       "<p>16936 rows × 2 columns</p>\n",
       "</div>"
      ],
      "text/plain": [
       "              Date  Order_Demand\n",
       "276     2012-04-18         80000\n",
       "282     2012-05-21         70000\n",
       "289     2012-06-26         80000\n",
       "292     2012-07-17        100000\n",
       "296     2012-08-24        100000\n",
       "...            ...           ...\n",
       "1046514 2016-10-03         20000\n",
       "1046515 2016-09-16         10000\n",
       "1046516 2016-11-01         30000\n",
       "1046517 2016-12-01         20000\n",
       "1046518 2016-12-09         20000\n",
       "\n",
       "[16936 rows x 2 columns]"
      ]
     },
     "execution_count": 40,
     "metadata": {},
     "output_type": "execute_result"
    }
   ],
   "source": [
    "OneProduct2"
   ]
  },
  {
   "cell_type": "code",
   "execution_count": 41,
   "metadata": {},
   "outputs": [
    {
     "name": "stdout",
     "output_type": "stream",
     "text": [
      "<class 'pandas.core.frame.DataFrame'>\n",
      "Int64Index: 16936 entries, 276 to 1046518\n",
      "Data columns (total 2 columns):\n",
      " #   Column        Non-Null Count  Dtype         \n",
      "---  ------        --------------  -----         \n",
      " 0   Date          16936 non-null  datetime64[ns]\n",
      " 1   Order_Demand  16936 non-null  int32         \n",
      "dtypes: datetime64[ns](1), int32(1)\n",
      "memory usage: 330.8 KB\n"
     ]
    }
   ],
   "source": [
    "OneProduct2.info()"
   ]
  },
  {
   "cell_type": "code",
   "execution_count": 51,
   "metadata": {},
   "outputs": [],
   "source": [
    "#Let's try ARIMA\n",
    "#Working from: https://www.digitalocean.com/community/tutorials/a-guide-to-time-series-forecasting-with-arima-in-python-3\n",
    "import warnings\n",
    "import itertools\n",
    "import pandas as pd\n",
    "import numpy as np\n",
    "import statsmodels.api as sm\n",
    "import matplotlib.pyplot as plt\n",
    "plt.style.use('fivethirtyeight')"
   ]
  },
  {
   "cell_type": "code",
   "execution_count": 54,
   "metadata": {},
   "outputs": [],
   "source": [
    "#convert oneproduct2 dataframe to series\n",
    "OneProductSeries = OneProduct2\n",
    "OneProductSeries = pd.Series(OneProductSeries['Order_Demand'], index=OneProductSeries.index)\n"
   ]
  },
  {
   "cell_type": "code",
   "execution_count": 58,
   "metadata": {},
   "outputs": [
    {
     "ename": "AttributeError",
     "evalue": "'Dataset' object has no attribute 'info'",
     "output_type": "error",
     "traceback": [
      "\u001b[1;31m---------------------------------------------------------------------------\u001b[0m",
      "\u001b[1;31mAttributeError\u001b[0m                            Traceback (most recent call last)",
      "\u001b[1;32m<ipython-input-58-6a733f5baeb3>\u001b[0m in \u001b[0;36m<module>\u001b[1;34m\u001b[0m\n\u001b[0;32m      1\u001b[0m \u001b[0mdata\u001b[0m \u001b[1;33m=\u001b[0m \u001b[0msm\u001b[0m\u001b[1;33m.\u001b[0m\u001b[0mdatasets\u001b[0m\u001b[1;33m.\u001b[0m\u001b[0mco2\u001b[0m\u001b[1;33m.\u001b[0m\u001b[0mload_pandas\u001b[0m\u001b[1;33m(\u001b[0m\u001b[1;33m)\u001b[0m\u001b[1;33m\u001b[0m\u001b[1;33m\u001b[0m\u001b[0m\n\u001b[1;32m----> 2\u001b[1;33m \u001b[0mdata\u001b[0m\u001b[1;33m.\u001b[0m\u001b[0minfo\u001b[0m\u001b[1;33m\u001b[0m\u001b[1;33m\u001b[0m\u001b[0m\n\u001b[0m",
      "\u001b[1;31mAttributeError\u001b[0m: 'Dataset' object has no attribute 'info'"
     ]
    }
   ],
   "source": [
    "#data = sm.datasets.co2.load_pandas()\n",
    "\n",
    "#data.info"
   ]
  },
  {
   "cell_type": "code",
   "execution_count": 64,
   "metadata": {},
   "outputs": [
    {
     "name": "stdout",
     "output_type": "stream",
     "text": [
      "<class 'pandas.core.frame.DataFrame'>\n",
      "Int64Index: 16936 entries, 276 to 1046518\n",
      "Data columns (total 2 columns):\n",
      " #   Column        Non-Null Count  Dtype         \n",
      "---  ------        --------------  -----         \n",
      " 0   Date          16936 non-null  datetime64[ns]\n",
      " 1   Order_Demand  16936 non-null  int32         \n",
      "dtypes: datetime64[ns](1), int32(1)\n",
      "memory usage: 330.8 KB\n"
     ]
    }
   ],
   "source": [
    "y = OneProduct2\n",
    "y.info()"
   ]
  },
  {
   "cell_type": "code",
   "execution_count": 65,
   "metadata": {},
   "outputs": [],
   "source": [
    "# The 'MS' string groups the data in buckets by start of the month\n",
    "#y = y['Date'].resample('MS').mean()\n",
    "\n",
    "# The term bfill means that we use the value before filling in missing values\n",
    "y = y.fillna(y.bfill())\n",
    "\n"
   ]
  },
  {
   "cell_type": "code",
   "execution_count": 66,
   "metadata": {},
   "outputs": [
    {
     "name": "stdout",
     "output_type": "stream",
     "text": [
      "              Date  Order_Demand\n",
      "276     2012-04-18         80000\n",
      "282     2012-05-21         70000\n",
      "289     2012-06-26         80000\n",
      "292     2012-07-17        100000\n",
      "296     2012-08-24        100000\n",
      "...            ...           ...\n",
      "1046514 2016-10-03         20000\n",
      "1046515 2016-09-16         10000\n",
      "1046516 2016-11-01         30000\n",
      "1046517 2016-12-01         20000\n",
      "1046518 2016-12-09         20000\n",
      "\n",
      "[16936 rows x 2 columns]\n"
     ]
    }
   ],
   "source": [
    "print(y)"
   ]
  },
  {
   "cell_type": "code",
   "execution_count": 68,
   "metadata": {},
   "outputs": [
    {
     "data": {
      "image/png": "[encoded data removed]",
      "text/plain": [
       "<Figure size 1080x432 with 1 Axes>"
      ]
     },
     "metadata": {},
     "output_type": "display_data"
    }
   ],
   "source": [
    "# set the column as the index\n",
    "y.set_index('Date', inplace=True)\n",
    "\n",
    "y.plot(figsize=(15, 6))\n",
    "plt.show()"
   ]
  },
  {
   "cell_type": "code",
   "execution_count": 69,
   "metadata": {},
   "outputs": [
    {
     "name": "stdout",
     "output_type": "stream",
     "text": [
      "Examples of parameter combinations for Seasonal ARIMA...\n",
      "SARIMAX: (0, 0, 1) x (0, 0, 1, 12)\n",
      "SARIMAX: (0, 0, 1) x (0, 1, 0, 12)\n",
      "SARIMAX: (0, 1, 0) x (0, 1, 1, 12)\n",
      "SARIMAX: (0, 1, 0) x (1, 0, 0, 12)\n"
     ]
    }
   ],
   "source": [
    "# Define the p, d and q parameters to take any value between 0 and 2\n",
    "p = d = q = range(0, 2)\n",
    "\n",
    "# Generate all different combinations of p, q and q triplets\n",
    "pdq = list(itertools.product(p, d, q))\n",
    "\n",
    "# Generate all different combinations of seasonal p, q and q triplets\n",
    "seasonal_pdq = [(x[0], x[1], x[2], 12) for x in list(itertools.product(p, d, q))]\n",
    "\n",
    "print('Examples of parameter combinations for Seasonal ARIMA...')\n",
    "print('SARIMAX: {} x {}'.format(pdq[1], seasonal_pdq[1]))\n",
    "print('SARIMAX: {} x {}'.format(pdq[1], seasonal_pdq[2]))\n",
    "print('SARIMAX: {} x {}'.format(pdq[2], seasonal_pdq[3]))\n",
    "print('SARIMAX: {} x {}'.format(pdq[2], seasonal_pdq[4]))"
   ]
  },
  {
   "cell_type": "code",
   "execution_count": 70,
   "metadata": {},
   "outputs": [
    {
     "name": "stdout",
     "output_type": "stream",
     "text": [
      "ARIMA(0, 0, 0)x(0, 0, 0, 12)12 - AIC:2282470807.985952\n",
      "ARIMA(0, 0, 0)x(0, 0, 1, 12)12 - AIC:426967.9459391644\n",
      "ARIMA(0, 0, 0)x(0, 1, 0, 12)12 - AIC:436793.61013670545\n",
      "ARIMA(0, 0, 0)x(0, 1, 1, 12)12 - AIC:425197.7991765716\n",
      "ARIMA(0, 0, 0)x(1, 0, 0, 12)12 - AIC:426624.45944843953\n",
      "ARIMA(0, 0, 0)x(1, 0, 1, 12)12 - AIC:425147.368623642\n",
      "ARIMA(0, 0, 0)x(1, 1, 0, 12)12 - AIC:429793.7167765385\n",
      "ARIMA(0, 0, 0)x(1, 1, 1, 12)12 - AIC:425032.221125375\n",
      "ARIMA(0, 0, 1)x(0, 0, 0, 12)12 - AIC:425893.39922133373\n",
      "ARIMA(0, 0, 1)x(0, 0, 1, 12)12 - AIC:425174.81965195126\n",
      "ARIMA(0, 0, 1)x(0, 1, 0, 12)12 - AIC:433550.74456010916\n",
      "ARIMA(0, 0, 1)x(0, 1, 1, 12)12 - AIC:425990.3160446844\n",
      "ARIMA(0, 0, 1)x(1, 0, 0, 12)12 - AIC:425124.8477661349\n",
      "ARIMA(0, 0, 1)x(1, 0, 1, 12)12 - AIC:424132.5213680772\n",
      "ARIMA(0, 0, 1)x(1, 1, 0, 12)12 - AIC:429567.96914624696\n",
      "ARIMA(0, 0, 1)x(1, 1, 1, 12)12 - AIC:425918.834795171\n",
      "ARIMA(0, 1, 0)x(0, 0, 0, 12)12 - AIC:2589603846.105306\n",
      "ARIMA(0, 1, 0)x(0, 0, 1, 12)12 - AIC:430086.70307527774\n",
      "ARIMA(0, 1, 0)x(0, 1, 0, 12)12 - AIC:nan\n",
      "ARIMA(0, 1, 0)x(0, 1, 1, 12)12 - AIC:431323.69671153784\n",
      "ARIMA(0, 1, 0)x(1, 0, 0, 12)12 - AIC:430111.62099662935\n",
      "ARIMA(0, 1, 0)x(1, 0, 1, 12)12 - AIC:430084.16827642004\n",
      "ARIMA(0, 1, 0)x(1, 1, 0, 12)12 - AIC:437131.1247382792\n",
      "ARIMA(0, 1, 0)x(1, 1, 1, 12)12 - AIC:430890.1235116413\n",
      "ARIMA(0, 1, 1)x(0, 0, 0, 12)12 - AIC:422476.08678614773\n",
      "ARIMA(0, 1, 1)x(0, 0, 1, 12)12 - AIC:422162.7466704662\n",
      "ARIMA(0, 1, 1)x(0, 1, 0, 12)12 - AIC:434482.0376698365\n",
      "ARIMA(0, 1, 1)x(0, 1, 1, 12)12 - AIC:426163.421326702\n",
      "ARIMA(0, 1, 1)x(1, 0, 0, 12)12 - AIC:422212.7984264231\n",
      "ARIMA(0, 1, 1)x(1, 0, 1, 12)12 - AIC:422151.7260215676\n",
      "ARIMA(0, 1, 1)x(1, 1, 0, 12)12 - AIC:430307.0158678703\n",
      "ARIMA(0, 1, 1)x(1, 1, 1, 12)12 - AIC:426154.93690557603\n",
      "ARIMA(1, 0, 0)x(0, 0, 0, 12)12 - AIC:424762.4429411221\n",
      "ARIMA(1, 0, 0)x(0, 0, 1, 12)12 - AIC:424302.7224843505\n",
      "ARIMA(1, 0, 0)x(0, 1, 0, 12)12 - AIC:433491.0561533313\n",
      "ARIMA(1, 0, 0)x(0, 1, 1, 12)12 - AIC:425662.1591797097\n",
      "ARIMA(1, 0, 0)x(1, 0, 0, 12)12 - AIC:424275.557382188\n",
      "ARIMA(1, 0, 0)x(1, 0, 1, 12)12 - AIC:423512.4740532984\n",
      "ARIMA(1, 0, 0)x(1, 1, 0, 12)12 - AIC:429383.6354665905\n",
      "ARIMA(1, 0, 0)x(1, 1, 1, 12)12 - AIC:425622.4092929845\n",
      "ARIMA(1, 0, 1)x(0, 0, 0, 12)12 - AIC:422245.4762027881\n",
      "ARIMA(1, 0, 1)x(0, 0, 1, 12)12 - AIC:421946.61418702785\n",
      "ARIMA(1, 0, 1)x(0, 1, 0, 12)12 - AIC:433202.17746576323\n",
      "ARIMA(1, 0, 1)x(0, 1, 1, 12)12 - AIC:424721.08183280326\n",
      "ARIMA(1, 0, 1)x(1, 0, 0, 12)12 - AIC:421971.08271821984\n",
      "ARIMA(1, 0, 1)x(1, 0, 1, 12)12 - AIC:421945.18975497136\n",
      "ARIMA(1, 0, 1)x(1, 1, 0, 12)12 - AIC:428963.7223220245\n",
      "ARIMA(1, 0, 1)x(1, 1, 1, 12)12 - AIC:424720.9005180049\n",
      "ARIMA(1, 1, 0)x(0, 0, 0, 12)12 - AIC:426628.95585659455\n",
      "ARIMA(1, 1, 0)x(0, 0, 1, 12)12 - AIC:426332.08365876565\n",
      "ARIMA(1, 1, 0)x(0, 1, 0, 12)12 - AIC:438389.49908704683\n",
      "ARIMA(1, 1, 0)x(0, 1, 1, 12)12 - AIC:429522.2869517146\n",
      "ARIMA(1, 1, 0)x(1, 0, 0, 12)12 - AIC:426332.35149992374\n",
      "ARIMA(1, 1, 0)x(1, 0, 1, 12)12 - AIC:426332.434455344\n",
      "ARIMA(1, 1, 0)x(1, 1, 0, 12)12 - AIC:433873.5933760856\n",
      "ARIMA(1, 1, 0)x(1, 1, 1, 12)12 - AIC:429520.8683940994\n",
      "ARIMA(1, 1, 1)x(0, 0, 0, 12)12 - AIC:422327.37060679944\n",
      "ARIMA(1, 1, 1)x(0, 0, 1, 12)12 - AIC:422021.21217570663\n",
      "ARIMA(1, 1, 1)x(0, 1, 0, 12)12 - AIC:433658.19562099234\n",
      "ARIMA(1, 1, 1)x(0, 1, 1, 12)12 - AIC:426076.95427193545\n",
      "ARIMA(1, 1, 1)x(1, 0, 0, 12)12 - AIC:422046.90275162767\n",
      "ARIMA(1, 1, 1)x(1, 0, 1, 12)12 - AIC:422008.7820488717\n",
      "ARIMA(1, 1, 1)x(1, 1, 0, 12)12 - AIC:430028.9790603065\n",
      "ARIMA(1, 1, 1)x(1, 1, 1, 12)12 - AIC:426070.76906982134\n"
     ]
    }
   ],
   "source": [
    "warnings.filterwarnings(\"ignore\") # specify to ignore warning messages\n",
    "\n",
    "for param in pdq:\n",
    "    for param_seasonal in seasonal_pdq:\n",
    "        try:\n",
    "            mod = sm.tsa.statespace.SARIMAX(y,\n",
    "                                            order=param,\n",
    "                                            seasonal_order=param_seasonal,\n",
    "                                            enforce_stationarity=False,\n",
    "                                            enforce_invertibility=False)\n",
    "\n",
    "            results = mod.fit()\n",
    "\n",
    "            print('ARIMA{}x{}12 - AIC:{}'.format(param, param_seasonal, results.aic))\n",
    "        except:\n",
    "            continue"
   ]
  },
  {
   "cell_type": "code",
   "execution_count": null,
   "metadata": {},
   "outputs": [],
   "source": []
  }
 ],
 "metadata": {
  "kernelspec": {
   "display_name": "Python 3",
   "language": "python",
   "name": "python3"
  },
  "language_info": {
   "codemirror_mode": {
    "name": "ipython",
    "version": 3
   },
   "file_extension": ".py",
   "mimetype": "text/x-python",
   "name": "python",
   "nbconvert_exporter": "python",
   "pygments_lexer": "ipython3",
   "version": "3.8.3"
  }
 },
 "nbformat": 4,
 "nbformat_minor": 4
}
